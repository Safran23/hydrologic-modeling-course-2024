{
 "cells": [
  {
   "cell_type": "markdown",
   "metadata": {},
   "source": [
    "# Integrated Hydrology--2D"
   ]
  },
  {
   "cell_type": "markdown",
   "metadata": {},
   "source": [
    "This is a series of problems to test and demonstrate the integrated hydrology components of ATS.  Integrated hydrology consists of Richards equation in the subsurface coupled to a diffusion wave approximation on the surface system.  Coupling is done through assuming continuous pressure and flux across the surface-subsurface interface.\n",
    "\n",
    "Author: Ethan Coon"
   ]
  },
  {
   "cell_type": "code",
   "execution_count": null,
   "metadata": {},
   "outputs": [],
   "source": [
    "%matplotlib inline"
   ]
  },
  {
   "cell_type": "code",
   "execution_count": null,
   "metadata": {},
   "outputs": [],
   "source": [
    "import sys,os\n",
    "sys.path.append(os.path.join(os.environ['ATS_SRC_DIR'],'tools', 'utils'))\n",
    "sys.path.append(os.path.join(os.environ['ATS_SRC_DIR'],'docs', 'documentation', 'source', 'ats_demos'))\n",
    "\n",
    "# Construct the repository path\n",
    "repo_path = os.path.join(os.environ['ATS_SRC_DIR'], 'tools', 'utils')\n",
    "\n",
    "# Change to the repository directory and switch to master branch\n",
    "%cd {repo_path}\n",
    "!git switch master\n",
    "%cd ~/work/hydrologic-modeling-course-2024/07-integrated-hydro-2D"
   ]
  },
  {
   "cell_type": "code",
   "execution_count": null,
   "metadata": {},
   "outputs": [],
   "source": [
    "import ats_xdmf\n",
    "import plot_column_data\n",
    "\n",
    "import colors\n",
    "import numpy as np\n",
    "from matplotlib import pyplot as plt\n",
    "from matplotlib import colorbar\n",
    "import matplotlib.cm as cm\n",
    "import matplotlib.colors as mcolors\n",
    "import pandas\n",
    "import run_demos"
   ]
  },
  {
   "cell_type": "markdown",
   "metadata": {},
   "source": [
    "## 2D Hillslope Runoff Generation\n",
    "\n",
    "In this example, we simulate the saturation excess (Dunne) runoff on a hillslope by ensuring the subsurface hydraulic conductivity is greater than the rainfall rate. The domain is 400 m in X, 80 m in Y, and 5 m in Z. The slope is 0.2 m over 400 m or 0.0005 [-]. A rainfall event 200 min in duration with a rate of 3.3 31024 m/min was applied to generate runoff, followed by 100 min of recession. Initially the subsurface is partially saturated with a water table depth of 0.5 m below surface.\n",
    "\n",
    "This example is modified from Maxwell et al WRR, 2014."
   ]
  },
  {
   "cell_type": "markdown",
   "metadata": {},
   "source": [
    "The outlet is a critical depth boundary condition, which sets the flux based on ponded depth, and is standard in the literature.\n",
    "\n",
    "$q = n_{liq} h \\sqrt{gh}$\n",
    "\n",
    "or equivalently,\n",
    "\n",
    "$V = \\sqrt{gh}$.\n",
    "\n",
    "Note that as this goes to zero with zero ponded depth, it takes a long time to drain."
   ]
  },
  {
   "cell_type": "code",
   "execution_count": null,
   "metadata": {},
   "outputs": [],
   "source": [
    "directory = '2d-hillslope'"
   ]
  },
  {
   "cell_type": "code",
   "execution_count": null,
   "metadata": {},
   "outputs": [],
   "source": [
    "vis = ats_xdmf.VisFile(directory, domain='surface', time_unit='s')\n",
    "vis.loadMesh(order=['x','y'])\n",
    "\n",
    "num_times = len(vis.times)\n",
    "# Create colormap and normalize it based on the number of lines\n",
    "cmap = plt.get_cmap(\"turbo\", num_times)  # Get 'jet' colormap\n",
    "norm = mcolors.Normalize(vmin=0, vmax=num_times-1)  # Normalize line indices\n",
    "\n",
    "# cm = colors.cm_mapper(vis.times[0], vis.times[-1], 'jet')\n",
    "x = vis.centroids[:,0]"
   ]
  },
  {
   "cell_type": "code",
   "execution_count": null,
   "metadata": {},
   "outputs": [],
   "source": [
    "fig, ax = plt.subplots(1,2, figsize=(14,6))\n",
    "\n",
    "# This simply gets a colorbar axis\n",
    "C = [[0,0],[0,0]]\n",
    "C3 = ax[0].contourf(C, vis.times/60, cmap='turbo')\n",
    "ax[0].cla()  \n",
    "\n",
    "pd = vis.getArray('surface-ponded_depth')\n",
    "print(pd.shape)\n",
    "elev = vis.get('surface-elevation', '0')\n",
    "\n",
    "#ax[0].plot(x, elev, 'k')\n",
    "for i in range(num_times):\n",
    "    #ax[0].plot(x, elev + pd[i,:], color=cm(i))\n",
    "    ax[0].plot(x, pd[i,:], color=cmap(norm(i)))\n",
    "\n",
    "ax[0].set_xlabel('x-coordinate [m]')\n",
    "ax[0].set_ylabel('ponded depth [m]')\n",
    "\n",
    "hydro = pandas.read_csv(os.path.join(directory, 'surface_outlet_flux.dat'), comment='#')\n",
    "ax[1].plot(hydro[\"time [s]\"][:]/60.0, hydro[\"surface outlet flux\"][:], 'b')\n",
    "ax[1].set_xlabel('time [min]')\n",
    "ax[1].set_ylabel('discharge flow rate [mol/s]')\n",
    "\n",
    "cbar = plt.colorbar(C3, ax=ax[0])\n",
    "cbar.ax.set_ylabel(\"time [min]\")\n",
    "\n",
    "plt.tight_layout()\n",
    "plt.show()"
   ]
  },
  {
   "cell_type": "markdown",
   "metadata": {},
   "source": [
    "## 2D transect of V-catchment \n",
    "\n",
    "In the next example, we rain on a transect of a V-catchment in 2D, allowing the water to pond.  This simply demonstrates that water runs downhill (in a coupled environment) and pools on the surface.  The plots show saturation (in colors) in the subsurface and the ponded depth (a line above the catchment).  \n",
    "\n",
    "At time zero, a water table is established.  Infiltration occurs through the 9 hour plot.  By 12 hours, the domain is saturated and water starts to pond on the surface."
   ]
  },
  {
   "cell_type": "code",
   "execution_count": null,
   "metadata": {},
   "outputs": [],
   "source": [
    "# plot the saturation at a few times\n",
    "directory = \"2d-transect\""
   ]
  },
  {
   "cell_type": "code",
   "execution_count": null,
   "metadata": {},
   "outputs": [],
   "source": [
    "vis = ats_xdmf.VisFile(directory, time_unit='d')\n",
    "vis.filterIndices(range(0,21,4))\n",
    "vis.loadMeshPolygons()\n",
    "\n",
    "vis_surf = ats_xdmf.VisFile(directory, domain='surface', time_unit='d')\n",
    "vis_surf.filterIndices(range(0,21,4))\n",
    "vis_surf.loadMesh(order=['x','z'])\n",
    "\n",
    "fig, axs = plt.subplots(2,3,figsize=(12,8))\n",
    "\n",
    "def plot(i, ax):\n",
    "    sat = vis.get(\"saturation_liquid\", vis.cycles[i])\n",
    "    poly = vis.getMeshPolygons(cmap='turbo', linewidth=1)\n",
    "    poly.set_array(sat)\n",
    "    poly.set_clim(0.4,1)\n",
    "    ax.add_collection(poly)\n",
    "\n",
    "    elev = vis_surf.get('surface-elevation', vis.cycles[i])\n",
    "    pd = vis_surf.get('surface-ponded_depth', vis.cycles[i])\n",
    "\n",
    "    ax.plot(vis_surf.centroids[:,0], elev+pd, 'b', linewidth=2)\n",
    "    ax.set_title(f\"{3*i} hours\")\n",
    "\n",
    "    # Add colorbar explicitly\n",
    "    cbar = fig.colorbar(poly, ax=ax, orientation='vertical')\n",
    "    cbar.set_label(\"saturation [-]\")\n",
    "\n",
    "\n",
    "plot(0, axs[0,0])\n",
    "plot(1, axs[0,1])\n",
    "plot(2, axs[0,2])\n",
    "plot(3, axs[1,0])\n",
    "plot(4, axs[1,1])\n",
    "plot(5, axs[1,2])"
   ]
  },
  {
   "cell_type": "code",
   "execution_count": null,
   "metadata": {},
   "outputs": [],
   "source": []
  }
 ],
 "metadata": {
  "kernelspec": {
   "display_name": "Python 3 (ipykernel)",
   "language": "python",
   "name": "python3"
  },
  "language_info": {
   "codemirror_mode": {
    "name": "ipython",
    "version": 3
   },
   "file_extension": ".py",
   "mimetype": "text/x-python",
   "name": "python",
   "nbconvert_exporter": "python",
   "pygments_lexer": "ipython3",
   "version": "3.10.12"
  },
  "name": "integrated_hydro.ipynb"
 },
 "nbformat": 4,
 "nbformat_minor": 4
}
